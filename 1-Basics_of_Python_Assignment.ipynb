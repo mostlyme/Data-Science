{
  "nbformat": 4,
  "nbformat_minor": 0,
  "metadata": {
    "colab": {
      "provenance": []
    },
    "kernelspec": {
      "name": "python3",
      "display_name": "Python 3"
    },
    "language_info": {
      "name": "python"
    }
  },
  "cells": [
    {
      "cell_type": "markdown",
      "source": [
        "**Exercise 1: Prime Numbers**\n",
        "\n",
        "Write a Python program that checks whether a given number is prime or not. A prime number is a natural number greater than 1 that has no positive divisors other than 1 and itself.\n"
      ],
      "metadata": {
        "id": "Mx7idDTNuTC5"
      }
    },
    {
      "cell_type": "code",
      "execution_count": 1,
      "metadata": {
        "colab": {
          "base_uri": "https://localhost:8080/"
        },
        "id": "-FIui1louCNF",
        "outputId": "afd810cd-e62d-471f-eb5f-828a48c078cd"
      },
      "outputs": [
        {
          "output_type": "stream",
          "name": "stdout",
          "text": [
            "Enter a number to check for prime: 123\n",
            "123 is not a prime number\n"
          ]
        }
      ],
      "source": [
        "#input from user\n",
        "num = int(input('Enter a number to check for prime: '))\n",
        "\n",
        "if num > 1:\n",
        "  for i in range(2,(num//2)+1):\n",
        "    if num%i == 0:\n",
        "      print(num, 'is not a prime number')\n",
        "      break\n",
        "  else:\n",
        "    print(num, 'is a prime number')\n",
        "else:\n",
        "  print(num, 'is not a prime number')\n"
      ]
    },
    {
      "cell_type": "markdown",
      "source": [
        "**Exercise 2: Product of Random Numbers**\n",
        "\n",
        "Develop a Python program that generates two random numbers and asks the user to enter the product of these numbers. The program should then check if the user's answer is correct and display an appropriate message.\n"
      ],
      "metadata": {
        "id": "XC6NZgDf2k-R"
      }
    },
    {
      "cell_type": "code",
      "source": [
        "import numpy as np\n",
        "\n",
        "num1 = np.random.randint(1,100)   #randint generates random integers between the given range\n",
        "num2 = np.random.randint(1,100)\n",
        "\n",
        "correct_answer = num1 * num2\n",
        "\n",
        "user_input = int(input(f\"What is {num1} * {num2}? \"))\n",
        "\n",
        "if user_input == correct_answer:\n",
        "    print(\"Correct! Well done.\")\n",
        "else:\n",
        "    print(f\"Incorrect. The correct answer is {correct_answer}.\")\n"
      ],
      "metadata": {
        "colab": {
          "base_uri": "https://localhost:8080/"
        },
        "id": "b9Q2Nre9885G",
        "outputId": "8f7049b5-b8f4-4b0d-995a-4328d3a090c9"
      },
      "execution_count": 2,
      "outputs": [
        {
          "output_type": "stream",
          "name": "stdout",
          "text": [
            "What is 86 * 14? 7676\n",
            "Incorrect. The correct answer is 1204.\n"
          ]
        }
      ]
    },
    {
      "cell_type": "markdown",
      "source": [
        "**Exercise 3: Squares of Even/Odd Numbers**\n",
        "\n",
        "Create a Python script that prints the squares of all even or odd numbers within the range of 100 to 200. Choose either even or odd numbers and document your choice in the code.\n"
      ],
      "metadata": {
        "id": "eza3B_g49heV"
      }
    },
    {
      "cell_type": "code",
      "source": [
        "# This script prints the squares of all even numbers within the range 100 to 200.\n",
        "\n",
        "square_of_even_number = []\n",
        "\n",
        "for i in range(100,201):\n",
        "\n",
        "  if i % 2 == 0:\n",
        "    square_of_even_number.append(i*i)\n",
        "  else:\n",
        "    continue\n",
        "\n",
        "square_of_even_number"
      ],
      "metadata": {
        "colab": {
          "base_uri": "https://localhost:8080/"
        },
        "id": "NHpuXhlN_AeJ",
        "outputId": "48a32584-49f8-4a3a-d264-47df42bca05b"
      },
      "execution_count": 3,
      "outputs": [
        {
          "output_type": "execute_result",
          "data": {
            "text/plain": [
              "[10000,\n",
              " 10404,\n",
              " 10816,\n",
              " 11236,\n",
              " 11664,\n",
              " 12100,\n",
              " 12544,\n",
              " 12996,\n",
              " 13456,\n",
              " 13924,\n",
              " 14400,\n",
              " 14884,\n",
              " 15376,\n",
              " 15876,\n",
              " 16384,\n",
              " 16900,\n",
              " 17424,\n",
              " 17956,\n",
              " 18496,\n",
              " 19044,\n",
              " 19600,\n",
              " 20164,\n",
              " 20736,\n",
              " 21316,\n",
              " 21904,\n",
              " 22500,\n",
              " 23104,\n",
              " 23716,\n",
              " 24336,\n",
              " 24964,\n",
              " 25600,\n",
              " 26244,\n",
              " 26896,\n",
              " 27556,\n",
              " 28224,\n",
              " 28900,\n",
              " 29584,\n",
              " 30276,\n",
              " 30976,\n",
              " 31684,\n",
              " 32400,\n",
              " 33124,\n",
              " 33856,\n",
              " 34596,\n",
              " 35344,\n",
              " 36100,\n",
              " 36864,\n",
              " 37636,\n",
              " 38416,\n",
              " 39204,\n",
              " 40000]"
            ]
          },
          "metadata": {},
          "execution_count": 3
        }
      ]
    },
    {
      "cell_type": "markdown",
      "source": [
        "**OR**"
      ],
      "metadata": {
        "id": "eq4pY-jLBGzC"
      }
    },
    {
      "cell_type": "code",
      "source": [
        "# This script prints the squares of all even numbers within the range 100 to 200.\n",
        "\n",
        "for number in range(100, 201):\n",
        "\n",
        "    if number % 2 == 0:\n",
        "        square = number * number\n",
        "\n",
        "        print(f\"The square of {number} is {square}\")\n"
      ],
      "metadata": {
        "colab": {
          "base_uri": "https://localhost:8080/"
        },
        "id": "PbddQnmGAraR",
        "outputId": "0b46d59d-0e8b-46cd-fdd1-88435acb2117"
      },
      "execution_count": 4,
      "outputs": [
        {
          "output_type": "stream",
          "name": "stdout",
          "text": [
            "The square of 100 is 10000\n",
            "The square of 102 is 10404\n",
            "The square of 104 is 10816\n",
            "The square of 106 is 11236\n",
            "The square of 108 is 11664\n",
            "The square of 110 is 12100\n",
            "The square of 112 is 12544\n",
            "The square of 114 is 12996\n",
            "The square of 116 is 13456\n",
            "The square of 118 is 13924\n",
            "The square of 120 is 14400\n",
            "The square of 122 is 14884\n",
            "The square of 124 is 15376\n",
            "The square of 126 is 15876\n",
            "The square of 128 is 16384\n",
            "The square of 130 is 16900\n",
            "The square of 132 is 17424\n",
            "The square of 134 is 17956\n",
            "The square of 136 is 18496\n",
            "The square of 138 is 19044\n",
            "The square of 140 is 19600\n",
            "The square of 142 is 20164\n",
            "The square of 144 is 20736\n",
            "The square of 146 is 21316\n",
            "The square of 148 is 21904\n",
            "The square of 150 is 22500\n",
            "The square of 152 is 23104\n",
            "The square of 154 is 23716\n",
            "The square of 156 is 24336\n",
            "The square of 158 is 24964\n",
            "The square of 160 is 25600\n",
            "The square of 162 is 26244\n",
            "The square of 164 is 26896\n",
            "The square of 166 is 27556\n",
            "The square of 168 is 28224\n",
            "The square of 170 is 28900\n",
            "The square of 172 is 29584\n",
            "The square of 174 is 30276\n",
            "The square of 176 is 30976\n",
            "The square of 178 is 31684\n",
            "The square of 180 is 32400\n",
            "The square of 182 is 33124\n",
            "The square of 184 is 33856\n",
            "The square of 186 is 34596\n",
            "The square of 188 is 35344\n",
            "The square of 190 is 36100\n",
            "The square of 192 is 36864\n",
            "The square of 194 is 37636\n",
            "The square of 196 is 38416\n",
            "The square of 198 is 39204\n",
            "The square of 200 is 40000\n"
          ]
        }
      ]
    },
    {
      "cell_type": "markdown",
      "source": [
        "**Exercise 4: Word counter**\n",
        "\n",
        "write a program to count the number of words in a given text.\n",
        "example:\n",
        "\n",
        "input_text = \"This is a sample text. This text will be used to demonstrate the word counter.\"\n",
        "\n",
        "Expected output:\n",
        "\n",
        "'This': 2\n",
        "\n",
        "'is': 1\n",
        "\n",
        "'a': 1\n",
        "\n",
        "'sample': 1\n",
        "\n",
        "'text.': 1\n"
      ],
      "metadata": {
        "id": "oPp45jYi9hlB"
      }
    },
    {
      "cell_type": "code",
      "source": [
        "input_text = \"This is a sample text. This text will be used to demonstrate the word counter.\"\n",
        "\n",
        "words = input_text.split()\n",
        "\n",
        "#empty dictionary to store word counts\n",
        "word_counts = {}\n",
        "\n",
        "for word in words:\n",
        "\n",
        "    # Convert word to lowercase to ensure case-insensitive counting\n",
        "    word = word.lower()  #if needed\n",
        "\n",
        "    # If the word is already in the dictionary, increment its count\n",
        "    if word in word_counts:\n",
        "        word_counts[word] += 1\n",
        "\n",
        "    # If the word is not in the dictionary, add it with a count of 1\n",
        "    else:\n",
        "        word_counts[word] = 1\n",
        "\n",
        "for word, count in word_counts.items():\n",
        "    print(f\"'{word}': {count}\")\n",
        "\n",
        ""
      ],
      "metadata": {
        "colab": {
          "base_uri": "https://localhost:8080/"
        },
        "id": "1Plp_DprBq0g",
        "outputId": "501a2f6a-e02b-492a-9e6e-bc2de7a2c3bd"
      },
      "execution_count": 5,
      "outputs": [
        {
          "output_type": "stream",
          "name": "stdout",
          "text": [
            "'this': 2\n",
            "'is': 1\n",
            "'a': 1\n",
            "'sample': 1\n",
            "'text.': 1\n",
            "'text': 1\n",
            "'will': 1\n",
            "'be': 1\n",
            "'used': 1\n",
            "'to': 1\n",
            "'demonstrate': 1\n",
            "'the': 1\n",
            "'word': 1\n",
            "'counter.': 1\n"
          ]
        }
      ]
    },
    {
      "cell_type": "markdown",
      "source": [
        "**Exercise 5: Check for Palindrome**\n",
        "\n",
        "Write a Python function called is_palindrome that takes a string as input and returns True if the string is a palindrome, and False otherwise. A palindrome is a word, phrase, number, or other sequence of characters that reads the same forward and backward, ignoring spaces, punctuation, and capitalization.\n",
        "\n",
        "Example:\n",
        "\n",
        "Input: \"racecar\"\n",
        "\n",
        "Expected Output: True\n",
        "________________________________________\n"
      ],
      "metadata": {
        "id": "k5B7hup29hno"
      }
    },
    {
      "cell_type": "code",
      "source": [
        "#Define a function\n",
        "def isPalindrome(string):\n",
        "  if (string == string[::-1]):\n",
        "    return \"True- The string is a palindrome.\"\n",
        "  else:\n",
        "    return \"False- The string is not a palindrome.\"\n",
        "\n",
        "#Enter input string\n",
        "string = (input(\"Enter string: \")).lower()\n",
        "\n",
        "print(isPalindrome(string))\n",
        "\n"
      ],
      "metadata": {
        "colab": {
          "base_uri": "https://localhost:8080/"
        },
        "id": "vrrk5UTYGA4U",
        "outputId": "32d69329-8c06-485e-cbf3-fca942efd02f"
      },
      "execution_count": 14,
      "outputs": [
        {
          "output_type": "stream",
          "name": "stdout",
          "text": [
            "Enter string: racecar\n",
            "True- The string is a palindrome.\n"
          ]
        }
      ]
    },
    {
      "cell_type": "markdown",
      "source": [
        "***Please complete the coding exercises and answer the theoretical questions. Submit your work in a single Python (.ipynb) file for the coding exercises.Ensure your code is well-commented to explain your logic and approach. Good luck!***"
      ],
      "metadata": {
        "id": "82ND4yVU9iJd"
      }
    }
  ]
}